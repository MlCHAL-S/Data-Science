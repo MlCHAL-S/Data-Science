{
 "cells": [
  {
   "cell_type": "markdown",
   "id": "61ae399a",
   "metadata": {},
   "source": [
    "# utlier detection"
   ]
  },
  {
   "cell_type": "markdown",
   "id": "fe4b3e89",
   "metadata": {},
   "source": [
    "### Introduction\n",
    "\n",
    "Badając dane często mozemy spotkać sie z elementami zbioru danych które róznią się od ogółu danych. Takie przypadki mogą mieć znaczący i zróznicowany wpływ na wnioski jakie wynosimy z danych. Tego typu zjawsiko moze mieć także rózne przyczyny od zwizanych z rzeczywistym rozkładem badanego zjawiska po błedy ludzkie czy tez maszynowe zwiazane z odczytywnaniem czy przekształcaniem danych. Badanie tego typu zjawisk nosi nazwę **wykrywywania anomalii** (ang. outlier detection)"
   ]
  },
  {
   "cell_type": "code",
   "execution_count": null,
   "id": "9a098a5e",
   "metadata": {},
   "outputs": [],
   "source": []
  }
 ],
 "metadata": {
  "kernelspec": {
   "display_name": "Python [conda env:tensor] *",
   "language": "python",
   "name": "conda-env-tensor-py"
  },
  "language_info": {
   "codemirror_mode": {
    "name": "ipython",
    "version": 3
   },
   "file_extension": ".py",
   "mimetype": "text/x-python",
   "name": "python",
   "nbconvert_exporter": "python",
   "pygments_lexer": "ipython3",
   "version": "3.11.5"
  }
 },
 "nbformat": 4,
 "nbformat_minor": 5
}
