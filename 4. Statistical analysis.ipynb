{
 "cells": [
  {
   "cell_type": "markdown",
   "id": "cd0b55ee",
   "metadata": {},
   "source": [
    "# Wstęp"
   ]
  },
  {
   "cell_type": "markdown",
   "id": "0b3f0121",
   "metadata": {},
   "source": [
    "Przed rozpoczęciem prac nad modelami/analizami warto poznać dane, na których będziemy pracować. W tym celu wykonujemy analizy statystyczne opisujące nam dane."
   ]
  },
  {
   "cell_type": "code",
   "execution_count": 1,
   "id": "bcd55c85",
   "metadata": {},
   "outputs": [],
   "source": [
    "# importy\n",
    "import numpy as np\n",
    "import pandas as pd\n",
    "from matplotlib import pyplot as plt\n",
    "from scipy.stats import normaltest, anderson"
   ]
  },
  {
   "cell_type": "code",
   "execution_count": 3,
   "id": "4d271cd5",
   "metadata": {},
   "outputs": [],
   "source": [
    "from sklearn.datasets import fetch_california_housing\n",
    "df = fetch_california_housing(as_frame = True)['frame']"
   ]
  },
  {
   "cell_type": "code",
   "execution_count": 8,
   "id": "a6a202e9",
   "metadata": {},
   "outputs": [
    {
     "name": "stdout",
     "output_type": "stream",
     "text": [
      ".. _california_housing_dataset:\n",
      "\n",
      "California Housing dataset\n",
      "--------------------------\n",
      "\n",
      "**Data Set Characteristics:**\n",
      "\n",
      "    :Number of Instances: 20640\n",
      "\n",
      "    :Number of Attributes: 8 numeric, predictive attributes and the target\n",
      "\n",
      "    :Attribute Information:\n",
      "        - MedInc        median income in block group\n",
      "        - HouseAge      median house age in block group\n",
      "        - AveRooms      average number of rooms per household\n",
      "        - AveBedrms     average number of bedrooms per household\n",
      "        - Population    block group population\n",
      "        - AveOccup      average number of household members\n",
      "        - Latitude      block group latitude\n",
      "        - Longitude     block group longitude\n",
      "\n",
      "    :Missing Attribute Values: None\n",
      "\n",
      "This dataset was obtained from the StatLib repository.\n",
      "https://www.dcc.fc.up.pt/~ltorgo/Regression/cal_housing.html\n",
      "\n",
      "The target variable is the median house value for California districts,\n",
      "expressed in hundreds of thousands of dollars ($100,000).\n",
      "\n",
      "This dataset was derived from the 1990 U.S. census, using one row per census\n",
      "block group. A block group is the smallest geographical unit for which the U.S.\n",
      "Census Bureau publishes sample data (a block group typically has a population\n",
      "of 600 to 3,000 people).\n",
      "\n",
      "A household is a group of people residing within a home. Since the average\n",
      "number of rooms and bedrooms in this dataset are provided per household, these\n",
      "columns may take surprisingly large values for block groups with few households\n",
      "and many empty houses, such as vacation resorts.\n",
      "\n",
      "It can be downloaded/loaded using the\n",
      ":func:`sklearn.datasets.fetch_california_housing` function.\n",
      "\n",
      ".. topic:: References\n",
      "\n",
      "    - Pace, R. Kelley and Ronald Barry, Sparse Spatial Autoregressions,\n",
      "      Statistics and Probability Letters, 33 (1997) 291-297\n",
      "\n"
     ]
    }
   ],
   "source": [
    "# print info\n",
    "print(fetch_california_housing(as_frame = True)['DESCR'])"
   ]
  },
  {
   "cell_type": "code",
   "execution_count": 9,
   "id": "343ed3e2",
   "metadata": {},
   "outputs": [
    {
     "data": {
      "text/html": [
       "<div>\n",
       "<style scoped>\n",
       "    .dataframe tbody tr th:only-of-type {\n",
       "        vertical-align: middle;\n",
       "    }\n",
       "\n",
       "    .dataframe tbody tr th {\n",
       "        vertical-align: top;\n",
       "    }\n",
       "\n",
       "    .dataframe thead th {\n",
       "        text-align: right;\n",
       "    }\n",
       "</style>\n",
       "<table border=\"1\" class=\"dataframe\">\n",
       "  <thead>\n",
       "    <tr style=\"text-align: right;\">\n",
       "      <th></th>\n",
       "      <th>MedInc</th>\n",
       "      <th>HouseAge</th>\n",
       "      <th>AveRooms</th>\n",
       "      <th>AveBedrms</th>\n",
       "      <th>Population</th>\n",
       "      <th>AveOccup</th>\n",
       "      <th>Latitude</th>\n",
       "      <th>Longitude</th>\n",
       "      <th>MedHouseVal</th>\n",
       "    </tr>\n",
       "  </thead>\n",
       "  <tbody>\n",
       "    <tr>\n",
       "      <th>0</th>\n",
       "      <td>8.3252</td>\n",
       "      <td>41.0</td>\n",
       "      <td>6.984127</td>\n",
       "      <td>1.023810</td>\n",
       "      <td>322.0</td>\n",
       "      <td>2.555556</td>\n",
       "      <td>37.88</td>\n",
       "      <td>-122.23</td>\n",
       "      <td>4.526</td>\n",
       "    </tr>\n",
       "    <tr>\n",
       "      <th>1</th>\n",
       "      <td>8.3014</td>\n",
       "      <td>21.0</td>\n",
       "      <td>6.238137</td>\n",
       "      <td>0.971880</td>\n",
       "      <td>2401.0</td>\n",
       "      <td>2.109842</td>\n",
       "      <td>37.86</td>\n",
       "      <td>-122.22</td>\n",
       "      <td>3.585</td>\n",
       "    </tr>\n",
       "    <tr>\n",
       "      <th>2</th>\n",
       "      <td>7.2574</td>\n",
       "      <td>52.0</td>\n",
       "      <td>8.288136</td>\n",
       "      <td>1.073446</td>\n",
       "      <td>496.0</td>\n",
       "      <td>2.802260</td>\n",
       "      <td>37.85</td>\n",
       "      <td>-122.24</td>\n",
       "      <td>3.521</td>\n",
       "    </tr>\n",
       "    <tr>\n",
       "      <th>3</th>\n",
       "      <td>5.6431</td>\n",
       "      <td>52.0</td>\n",
       "      <td>5.817352</td>\n",
       "      <td>1.073059</td>\n",
       "      <td>558.0</td>\n",
       "      <td>2.547945</td>\n",
       "      <td>37.85</td>\n",
       "      <td>-122.25</td>\n",
       "      <td>3.413</td>\n",
       "    </tr>\n",
       "    <tr>\n",
       "      <th>4</th>\n",
       "      <td>3.8462</td>\n",
       "      <td>52.0</td>\n",
       "      <td>6.281853</td>\n",
       "      <td>1.081081</td>\n",
       "      <td>565.0</td>\n",
       "      <td>2.181467</td>\n",
       "      <td>37.85</td>\n",
       "      <td>-122.25</td>\n",
       "      <td>3.422</td>\n",
       "    </tr>\n",
       "  </tbody>\n",
       "</table>\n",
       "</div>"
      ],
      "text/plain": [
       "   MedInc  HouseAge  AveRooms  AveBedrms  Population  AveOccup  Latitude  \\\n",
       "0  8.3252      41.0  6.984127   1.023810       322.0  2.555556     37.88   \n",
       "1  8.3014      21.0  6.238137   0.971880      2401.0  2.109842     37.86   \n",
       "2  7.2574      52.0  8.288136   1.073446       496.0  2.802260     37.85   \n",
       "3  5.6431      52.0  5.817352   1.073059       558.0  2.547945     37.85   \n",
       "4  3.8462      52.0  6.281853   1.081081       565.0  2.181467     37.85   \n",
       "\n",
       "   Longitude  MedHouseVal  \n",
       "0    -122.23        4.526  \n",
       "1    -122.22        3.585  \n",
       "2    -122.24        3.521  \n",
       "3    -122.25        3.413  \n",
       "4    -122.25        3.422  "
      ]
     },
     "execution_count": 9,
     "metadata": {},
     "output_type": "execute_result"
    }
   ],
   "source": [
    "df.head()"
   ]
  },
  {
   "cell_type": "markdown",
   "id": "8f3710d9",
   "metadata": {},
   "source": [
    "### Cel\n",
    "Celem poniższego zadania jest analiza statystyczna danych fetch_california_housing przed tworzeniem modelu regresyjnego, w którym celem (zmienną objaśnianą) będzie wyznaczenie Mediany wartości domu (MedHouseVal)"
   ]
  },
  {
   "cell_type": "markdown",
   "id": "09c8e8a0",
   "metadata": {},
   "source": [
    "### Ogólna wiedza o danych"
   ]
  },
  {
   "cell_type": "markdown",
   "id": "43f4a569",
   "metadata": {},
   "source": [
    "Przy pierwszym spojrzeniu na dane warto sprawdzić jaka jest średnia, mediana, wartosci minimalne i maksymalne. Najprostszy sposób, aby to zbadać to wykorzystać metodę describe(). Przedstawia ona liczbę danych, średnią, odchylenie standardowe, minimalną wartość, maksymalną wartośc, mediane oraz 25 i 75 percentyl"
   ]
  },
  {
   "cell_type": "code",
   "execution_count": 10,
   "id": "71b78dbb",
   "metadata": {},
   "outputs": [
    {
     "data": {
      "text/html": [
       "<div>\n",
       "<style scoped>\n",
       "    .dataframe tbody tr th:only-of-type {\n",
       "        vertical-align: middle;\n",
       "    }\n",
       "\n",
       "    .dataframe tbody tr th {\n",
       "        vertical-align: top;\n",
       "    }\n",
       "\n",
       "    .dataframe thead th {\n",
       "        text-align: right;\n",
       "    }\n",
       "</style>\n",
       "<table border=\"1\" class=\"dataframe\">\n",
       "  <thead>\n",
       "    <tr style=\"text-align: right;\">\n",
       "      <th></th>\n",
       "      <th>MedInc</th>\n",
       "      <th>HouseAge</th>\n",
       "      <th>AveRooms</th>\n",
       "      <th>AveBedrms</th>\n",
       "      <th>Population</th>\n",
       "      <th>AveOccup</th>\n",
       "      <th>Latitude</th>\n",
       "      <th>Longitude</th>\n",
       "      <th>MedHouseVal</th>\n",
       "    </tr>\n",
       "  </thead>\n",
       "  <tbody>\n",
       "    <tr>\n",
       "      <th>count</th>\n",
       "      <td>20640.000000</td>\n",
       "      <td>20640.000000</td>\n",
       "      <td>20640.000000</td>\n",
       "      <td>20640.000000</td>\n",
       "      <td>20640.000000</td>\n",
       "      <td>20640.000000</td>\n",
       "      <td>20640.000000</td>\n",
       "      <td>20640.000000</td>\n",
       "      <td>20640.000000</td>\n",
       "    </tr>\n",
       "    <tr>\n",
       "      <th>mean</th>\n",
       "      <td>3.870671</td>\n",
       "      <td>28.639486</td>\n",
       "      <td>5.429000</td>\n",
       "      <td>1.096675</td>\n",
       "      <td>1425.476744</td>\n",
       "      <td>3.070655</td>\n",
       "      <td>35.631861</td>\n",
       "      <td>-119.569704</td>\n",
       "      <td>2.068558</td>\n",
       "    </tr>\n",
       "    <tr>\n",
       "      <th>std</th>\n",
       "      <td>1.899822</td>\n",
       "      <td>12.585558</td>\n",
       "      <td>2.474173</td>\n",
       "      <td>0.473911</td>\n",
       "      <td>1132.462122</td>\n",
       "      <td>10.386050</td>\n",
       "      <td>2.135952</td>\n",
       "      <td>2.003532</td>\n",
       "      <td>1.153956</td>\n",
       "    </tr>\n",
       "    <tr>\n",
       "      <th>min</th>\n",
       "      <td>0.499900</td>\n",
       "      <td>1.000000</td>\n",
       "      <td>0.846154</td>\n",
       "      <td>0.333333</td>\n",
       "      <td>3.000000</td>\n",
       "      <td>0.692308</td>\n",
       "      <td>32.540000</td>\n",
       "      <td>-124.350000</td>\n",
       "      <td>0.149990</td>\n",
       "    </tr>\n",
       "    <tr>\n",
       "      <th>25%</th>\n",
       "      <td>2.563400</td>\n",
       "      <td>18.000000</td>\n",
       "      <td>4.440716</td>\n",
       "      <td>1.006079</td>\n",
       "      <td>787.000000</td>\n",
       "      <td>2.429741</td>\n",
       "      <td>33.930000</td>\n",
       "      <td>-121.800000</td>\n",
       "      <td>1.196000</td>\n",
       "    </tr>\n",
       "    <tr>\n",
       "      <th>50%</th>\n",
       "      <td>3.534800</td>\n",
       "      <td>29.000000</td>\n",
       "      <td>5.229129</td>\n",
       "      <td>1.048780</td>\n",
       "      <td>1166.000000</td>\n",
       "      <td>2.818116</td>\n",
       "      <td>34.260000</td>\n",
       "      <td>-118.490000</td>\n",
       "      <td>1.797000</td>\n",
       "    </tr>\n",
       "    <tr>\n",
       "      <th>75%</th>\n",
       "      <td>4.743250</td>\n",
       "      <td>37.000000</td>\n",
       "      <td>6.052381</td>\n",
       "      <td>1.099526</td>\n",
       "      <td>1725.000000</td>\n",
       "      <td>3.282261</td>\n",
       "      <td>37.710000</td>\n",
       "      <td>-118.010000</td>\n",
       "      <td>2.647250</td>\n",
       "    </tr>\n",
       "    <tr>\n",
       "      <th>max</th>\n",
       "      <td>15.000100</td>\n",
       "      <td>52.000000</td>\n",
       "      <td>141.909091</td>\n",
       "      <td>34.066667</td>\n",
       "      <td>35682.000000</td>\n",
       "      <td>1243.333333</td>\n",
       "      <td>41.950000</td>\n",
       "      <td>-114.310000</td>\n",
       "      <td>5.000010</td>\n",
       "    </tr>\n",
       "  </tbody>\n",
       "</table>\n",
       "</div>"
      ],
      "text/plain": [
       "             MedInc      HouseAge      AveRooms     AveBedrms    Population  \\\n",
       "count  20640.000000  20640.000000  20640.000000  20640.000000  20640.000000   \n",
       "mean       3.870671     28.639486      5.429000      1.096675   1425.476744   \n",
       "std        1.899822     12.585558      2.474173      0.473911   1132.462122   \n",
       "min        0.499900      1.000000      0.846154      0.333333      3.000000   \n",
       "25%        2.563400     18.000000      4.440716      1.006079    787.000000   \n",
       "50%        3.534800     29.000000      5.229129      1.048780   1166.000000   \n",
       "75%        4.743250     37.000000      6.052381      1.099526   1725.000000   \n",
       "max       15.000100     52.000000    141.909091     34.066667  35682.000000   \n",
       "\n",
       "           AveOccup      Latitude     Longitude   MedHouseVal  \n",
       "count  20640.000000  20640.000000  20640.000000  20640.000000  \n",
       "mean       3.070655     35.631861   -119.569704      2.068558  \n",
       "std       10.386050      2.135952      2.003532      1.153956  \n",
       "min        0.692308     32.540000   -124.350000      0.149990  \n",
       "25%        2.429741     33.930000   -121.800000      1.196000  \n",
       "50%        2.818116     34.260000   -118.490000      1.797000  \n",
       "75%        3.282261     37.710000   -118.010000      2.647250  \n",
       "max     1243.333333     41.950000   -114.310000      5.000010  "
      ]
     },
     "execution_count": 10,
     "metadata": {},
     "output_type": "execute_result"
    }
   ],
   "source": [
    "df.describe()"
   ]
  },
  {
   "cell_type": "markdown",
   "id": "35d33b8f",
   "metadata": {},
   "source": [
    "Wszytskie te informacje można oczywiście wydobyć osobnymi metodami:"
   ]
  },
  {
   "cell_type": "markdown",
   "id": "fd66d757",
   "metadata": {},
   "source": [
    "### Liczba wierszy:"
   ]
  },
  {
   "cell_type": "code",
   "execution_count": 16,
   "id": "b3181f8e",
   "metadata": {},
   "outputs": [
    {
     "data": {
      "text/plain": [
       "MedInc         20640\n",
       "HouseAge       20640\n",
       "AveRooms       20640\n",
       "AveBedrms      20640\n",
       "Population     20640\n",
       "AveOccup       20640\n",
       "Latitude       20640\n",
       "Longitude      20640\n",
       "MedHouseVal    20640\n",
       "dtype: int64"
      ]
     },
     "execution_count": 16,
     "metadata": {},
     "output_type": "execute_result"
    }
   ],
   "source": [
    "df.count()"
   ]
  },
  {
   "cell_type": "code",
   "execution_count": 17,
   "id": "3cb70eef",
   "metadata": {},
   "outputs": [
    {
     "data": {
      "text/plain": [
       "20640"
      ]
     },
     "execution_count": 17,
     "metadata": {},
     "output_type": "execute_result"
    }
   ],
   "source": [
    "df['MedInc'].count()"
   ]
  },
  {
   "cell_type": "markdown",
   "id": "d759c9aa",
   "metadata": {},
   "source": [
    "### Średnia:"
   ]
  },
  {
   "cell_type": "code",
   "execution_count": 18,
   "id": "f34c4407",
   "metadata": {},
   "outputs": [
    {
     "data": {
      "text/plain": [
       "(MedInc         20640\n",
       " HouseAge       20640\n",
       " AveRooms       20640\n",
       " AveBedrms      20640\n",
       " Population     20640\n",
       " AveOccup       20640\n",
       " Latitude       20640\n",
       " Longitude      20640\n",
       " MedHouseVal    20640\n",
       " dtype: int64,\n",
       " 20640)"
      ]
     },
     "execution_count": 18,
     "metadata": {},
     "output_type": "execute_result"
    }
   ],
   "source": [
    "df.count(), df['MedInc'].count()"
   ]
  },
  {
   "cell_type": "markdown",
   "id": "4fddfd63",
   "metadata": {},
   "source": [
    "### Percentyle:"
   ]
  },
  {
   "cell_type": "code",
   "execution_count": 19,
   "id": "8f5664cd",
   "metadata": {},
   "outputs": [
    {
     "data": {
      "text/html": [
       "<div>\n",
       "<style scoped>\n",
       "    .dataframe tbody tr th:only-of-type {\n",
       "        vertical-align: middle;\n",
       "    }\n",
       "\n",
       "    .dataframe tbody tr th {\n",
       "        vertical-align: top;\n",
       "    }\n",
       "\n",
       "    .dataframe thead th {\n",
       "        text-align: right;\n",
       "    }\n",
       "</style>\n",
       "<table border=\"1\" class=\"dataframe\">\n",
       "  <thead>\n",
       "    <tr style=\"text-align: right;\">\n",
       "      <th></th>\n",
       "      <th>MedInc</th>\n",
       "      <th>HouseAge</th>\n",
       "      <th>AveRooms</th>\n",
       "      <th>AveBedrms</th>\n",
       "      <th>Population</th>\n",
       "      <th>AveOccup</th>\n",
       "      <th>Latitude</th>\n",
       "      <th>Longitude</th>\n",
       "      <th>MedHouseVal</th>\n",
       "    </tr>\n",
       "  </thead>\n",
       "  <tbody>\n",
       "    <tr>\n",
       "      <th>0.25</th>\n",
       "      <td>2.56340</td>\n",
       "      <td>18.0</td>\n",
       "      <td>4.440716</td>\n",
       "      <td>1.006079</td>\n",
       "      <td>787.0</td>\n",
       "      <td>2.429741</td>\n",
       "      <td>33.93</td>\n",
       "      <td>-121.80</td>\n",
       "      <td>1.19600</td>\n",
       "    </tr>\n",
       "    <tr>\n",
       "      <th>0.50</th>\n",
       "      <td>3.53480</td>\n",
       "      <td>29.0</td>\n",
       "      <td>5.229129</td>\n",
       "      <td>1.048780</td>\n",
       "      <td>1166.0</td>\n",
       "      <td>2.818116</td>\n",
       "      <td>34.26</td>\n",
       "      <td>-118.49</td>\n",
       "      <td>1.79700</td>\n",
       "    </tr>\n",
       "    <tr>\n",
       "      <th>0.75</th>\n",
       "      <td>4.74325</td>\n",
       "      <td>37.0</td>\n",
       "      <td>6.052381</td>\n",
       "      <td>1.099526</td>\n",
       "      <td>1725.0</td>\n",
       "      <td>3.282261</td>\n",
       "      <td>37.71</td>\n",
       "      <td>-118.01</td>\n",
       "      <td>2.64725</td>\n",
       "    </tr>\n",
       "  </tbody>\n",
       "</table>\n",
       "</div>"
      ],
      "text/plain": [
       "       MedInc  HouseAge  AveRooms  AveBedrms  Population  AveOccup  Latitude  \\\n",
       "0.25  2.56340      18.0  4.440716   1.006079       787.0  2.429741     33.93   \n",
       "0.50  3.53480      29.0  5.229129   1.048780      1166.0  2.818116     34.26   \n",
       "0.75  4.74325      37.0  6.052381   1.099526      1725.0  3.282261     37.71   \n",
       "\n",
       "      Longitude  MedHouseVal  \n",
       "0.25    -121.80      1.19600  \n",
       "0.50    -118.49      1.79700  \n",
       "0.75    -118.01      2.64725  "
      ]
     },
     "execution_count": 19,
     "metadata": {},
     "output_type": "execute_result"
    }
   ],
   "source": [
    "df.quantile([0.25, 0.5, 0.75])"
   ]
  },
  {
   "cell_type": "code",
   "execution_count": 21,
   "id": "d8a8acd5",
   "metadata": {},
   "outputs": [
    {
     "data": {
      "text/plain": [
       "array([1.196  , 1.797  , 2.64725])"
      ]
     },
     "execution_count": 21,
     "metadata": {},
     "output_type": "execute_result"
    }
   ],
   "source": [
    "np.quantile(df['MedHouseVal'], [0.25, 0.50, 0.75])"
   ]
  },
  {
   "cell_type": "code",
   "execution_count": 22,
   "id": "a11910ed",
   "metadata": {},
   "outputs": [
    {
     "data": {
      "text/plain": [
       "array([1.196  , 1.797  , 2.64725])"
      ]
     },
     "execution_count": 22,
     "metadata": {},
     "output_type": "execute_result"
    }
   ],
   "source": [
    "np.percentile(df['MedHouseVal'], [25,50,75])"
   ]
  },
  {
   "cell_type": "markdown",
   "id": "d3fb4e9c",
   "metadata": {},
   "source": [
    "### Analiza poszczególnych kolumn"
   ]
  },
  {
   "cell_type": "markdown",
   "id": "57d5db10",
   "metadata": {},
   "source": [
    "W pierwszej kolejności sprawdźmy jak wyglada nasz cel, a więc mediana wartości domu\n",
    "\n",
    "Poniważ wartość mieszkania może przyjmować wszystkie wartości większe od 0, najlepszym sposobem na sprawdzenie rozkładu jest stworzenie histogramu\n",
    "\n",
    "Najprostszą metodą jest wygenerowanie automatycznego histogramu za pomocą metody pd.Series.hist(), lub z pakietu matplotlib plt.hist()"
   ]
  },
  {
   "cell_type": "code",
   "execution_count": 25,
   "id": "f84d9ace",
   "metadata": {},
   "outputs": [
    {
     "data": {
      "image/png": "[encoded data removed]",
      "text/plain": [
       "<Figure size 640x480 with 1 Axes>"
      ]
     },
     "metadata": {},
     "output_type": "display_data"
    }
   ],
   "source": [
    "df['MedHouseVal'].hist(bins=20)\n",
    "plt.xlabel(\"MedHauseVal\")\n",
    "plt.ylabel(\"Count\")\n",
    "plt.title(\"House value histogram\")\n",
    "plt.show()"
   ]
  },
  {
   "cell_type": "code",
   "execution_count": 27,
   "id": "2721cc63",
   "metadata": {},
   "outputs": [
    {
     "data": {
      "image/png": "[encoded data removed]",
      "text/plain": [
       "<Figure size 640x480 with 1 Axes>"
      ]
     },
     "metadata": {},
     "output_type": "display_data"
    }
   ],
   "source": [
    "plt.hist(df['MedHouseVal'], bins=20)\n",
    "plt.xlabel(\"MedHauseVal\")\n",
    "plt.ylabel(\"Count\")\n",
    "plt.title(\"House value histogram\")\n",
    "plt.show()"
   ]
  },
  {
   "cell_type": "markdown",
   "id": "80a03b6c",
   "metadata": {},
   "source": [
    "Najwięcej przypadków znajduje się w przedziale 1-2. Dodatkowo rozkład nie przypomina standardowego rozkładu normalnego. W kolejnych częściach dowiemy się jak sprawdzić, czy dane układają się w rozkład normalny, czy nie."
   ]
  },
  {
   "cell_type": "markdown",
   "id": "64c0ff95",
   "metadata": {},
   "source": [
    "### Wartości dyskretne"
   ]
  },
  {
   "cell_type": "markdown",
   "id": "482feaf3",
   "metadata": {},
   "source": [
    "Jeżeli w kolumnie znajdują się wartości dyskretne, warto znać ilość poszczególnych wartości. W tym celu można wykorzystać funkcję pd.Series.count_values()."
   ]
  },
  {
   "cell_type": "code",
   "execution_count": 29,
   "id": "7c7a9816",
   "metadata": {},
   "outputs": [
    {
     "data": {
      "text/plain": [
       "HouseAge\n",
       "52.0    1273\n",
       "36.0     862\n",
       "35.0     824\n",
       "16.0     771\n",
       "17.0     698\n",
       "34.0     689\n",
       "26.0     619\n",
       "33.0     615\n",
       "18.0     570\n",
       "25.0     566\n",
       "32.0     565\n",
       "37.0     537\n",
       "15.0     512\n",
       "19.0     502\n",
       "27.0     488\n",
       "24.0     478\n",
       "30.0     476\n",
       "28.0     471\n",
       "20.0     465\n",
       "29.0     461\n",
       "31.0     458\n",
       "23.0     448\n",
       "21.0     446\n",
       "14.0     412\n",
       "22.0     399\n",
       "38.0     394\n",
       "39.0     369\n",
       "42.0     368\n",
       "44.0     356\n",
       "43.0     353\n",
       "40.0     304\n",
       "13.0     302\n",
       "41.0     296\n",
       "45.0     294\n",
       "10.0     264\n",
       "11.0     254\n",
       "46.0     245\n",
       "5.0      244\n",
       "12.0     238\n",
       "8.0      206\n",
       "9.0      205\n",
       "47.0     198\n",
       "4.0      191\n",
       "48.0     177\n",
       "7.0      175\n",
       "6.0      160\n",
       "50.0     136\n",
       "49.0     134\n",
       "3.0       62\n",
       "2.0       58\n",
       "51.0      48\n",
       "1.0        4\n",
       "Name: count, dtype: int64"
      ]
     },
     "execution_count": 29,
     "metadata": {},
     "output_type": "execute_result"
    }
   ],
   "source": [
    "df['HouseAge'].value_counts()"
   ]
  },
  {
   "cell_type": "markdown",
   "id": "7741427b",
   "metadata": {},
   "source": [
    "Otrzymane wyniki są automatycznie ustawiane od przypadków najczęściej do najrzadziej występujacych.\n",
    "\n",
    "Występuje 1273 obszarów z medianą wieku domów równą 52 lata. Co ciekawe mediana równa 51 lat występuje tylko w 48 obszarach. Najmniej, bo tylko 4 obszary, mają medianę wieku domów w wysokości 1 roku.\n",
    "\n",
    "Sprawdźmy jak wyglądają takie dane na wykresie"
   ]
  },
  {
   "cell_type": "code",
   "execution_count": 73,
   "id": "8e04e75c",
   "metadata": {},
   "outputs": [
    {
     "data": {
      "image/png": "[encoded data removed]",
      "text/plain": [
       "<Figure size 640x480 with 1 Axes>"
      ]
     },
     "metadata": {},
     "output_type": "display_data"
    }
   ],
   "source": [
    "from matplotlib import pyplot as plt\n",
    "\n",
    "df['HouseAge'].value_counts().reset_index()\n",
    "#df_plot\n",
    "plt.bar(x='HouseAge', height='count', data=df_plot)\n",
    "plt.xlabel('House Age')\n",
    "plt.ylabel('Counts')\n",
    "plt.show()"
   ]
  },
  {
   "cell_type": "markdown",
   "id": "02371fb5",
   "metadata": {},
   "source": [
    "Widać, że zdecydowanie 52 lata to najczęściej występująca mediana wieku domów. Widać także zwiększenie ilości danych w środkowych przedziale lat.\n",
    "\n",
    "Po wyglądzie można się zastanowić czy ta wartość 52 lata nie jest maksymalną wartością, która mogła zostać wpisana. Należy się zastanowić czy nie warto usunąć tych danych do dalszej analizy. Niestety w źródle danych nie ma informacji na ten temat, ale w rzeczywistych warunkach taka informacja powinna być opisana."
   ]
  },
  {
   "cell_type": "markdown",
   "id": "fb36af23",
   "metadata": {},
   "source": [
    "# Badanie korelacji"
   ]
  },
  {
   "cell_type": "markdown",
   "id": "fb4cd813",
   "metadata": {},
   "source": [
    "W analizie statystycznej ważnym elementem jest badanie korelacji zmiennych. To dzięki niej wiemy czy występuje jakaś zależność pomiędzy zbiorami danych.\n",
    "\n",
    "Bardzo istotne jest zbadanie korelacji podczas budowania modelu regresyjnego. Badając korelację naszego celu (w tym przykładzie ‘MedHouseVal’) z cechami, możemy dowiedzieć się która z cech jest naistotniejsza, a która nie pomoże nam w stworzeniu odpowiedniego modelu\n",
    "\n",
    "Najczęściej badanymi korelacjami są:\n",
    "### Pearsona \n",
    "- bada zależność liniową w danych X i Y\n",
    "$$\n",
    "    \\rho_{p} = \\frac{\\text{cov}(X,Y)}{\\sigma_X \\cdot \\sigma_Y}\n",
    "$$\n",
    "### Spearmana\n",
    "- bada zależność rank danych X i Y. Wysoka wartość współczynnika korelacji nie oznacza, że dane są liniowo skorelowane, ale wraz z wzrostem wartosci X, zwiększają się wartości Y, jednak niekoniecznie zawsze o taką samą wartość \n",
    "$$\n",
    "    \\rho_{s} = \\frac{\\text{cov(R(X)R(Y))}}{\\sigma_{R(X)} \\cdot \\sigma_{R(Y)}}\n",
    "$$\n",
    "gdzie:\n",
    "\n",
    "cov() - kowariancja,\n",
    "\n",
    "sigma - odchylenie standardowe\n",
    "\n",
    "R() - rangi danych"
   ]
  },
  {
   "cell_type": "markdown",
   "id": "76a96196",
   "metadata": {},
   "source": [
    "Najprostrzym sposobem na zbadanie korelacji w tabeli jest wykorzystanie metody pd.DataFrame.corr()\n",
    "\n",
    "Metoda stworzy macież korelacji pomiędzy wszystkimi kolumnami numerycznymi w DataFrame"
   ]
  },
  {
   "cell_type": "code",
   "execution_count": 74,
   "id": "bddf8aa9",
   "metadata": {},
   "outputs": [
    {
     "data": {
      "text/html": [
       "<div>\n",
       "<style scoped>\n",
       "    .dataframe tbody tr th:only-of-type {\n",
       "        vertical-align: middle;\n",
       "    }\n",
       "\n",
       "    .dataframe tbody tr th {\n",
       "        vertical-align: top;\n",
       "    }\n",
       "\n",
       "    .dataframe thead th {\n",
       "        text-align: right;\n",
       "    }\n",
       "</style>\n",
       "<table border=\"1\" class=\"dataframe\">\n",
       "  <thead>\n",
       "    <tr style=\"text-align: right;\">\n",
       "      <th></th>\n",
       "      <th>MedInc</th>\n",
       "      <th>HouseAge</th>\n",
       "      <th>AveRooms</th>\n",
       "      <th>AveBedrms</th>\n",
       "      <th>Population</th>\n",
       "      <th>AveOccup</th>\n",
       "      <th>Latitude</th>\n",
       "      <th>Longitude</th>\n",
       "      <th>MedHouseVal</th>\n",
       "    </tr>\n",
       "  </thead>\n",
       "  <tbody>\n",
       "    <tr>\n",
       "      <th>MedInc</th>\n",
       "      <td>1.000000</td>\n",
       "      <td>-0.119034</td>\n",
       "      <td>0.326895</td>\n",
       "      <td>-0.062040</td>\n",
       "      <td>0.004834</td>\n",
       "      <td>0.018766</td>\n",
       "      <td>-0.079809</td>\n",
       "      <td>-0.015176</td>\n",
       "      <td>0.688075</td>\n",
       "    </tr>\n",
       "    <tr>\n",
       "      <th>HouseAge</th>\n",
       "      <td>-0.119034</td>\n",
       "      <td>1.000000</td>\n",
       "      <td>-0.153277</td>\n",
       "      <td>-0.077747</td>\n",
       "      <td>-0.296244</td>\n",
       "      <td>0.013191</td>\n",
       "      <td>0.011173</td>\n",
       "      <td>-0.108197</td>\n",
       "      <td>0.105623</td>\n",
       "    </tr>\n",
       "    <tr>\n",
       "      <th>AveRooms</th>\n",
       "      <td>0.326895</td>\n",
       "      <td>-0.153277</td>\n",
       "      <td>1.000000</td>\n",
       "      <td>0.847621</td>\n",
       "      <td>-0.072213</td>\n",
       "      <td>-0.004852</td>\n",
       "      <td>0.106389</td>\n",
       "      <td>-0.027540</td>\n",
       "      <td>0.151948</td>\n",
       "    </tr>\n",
       "    <tr>\n",
       "      <th>AveBedrms</th>\n",
       "      <td>-0.062040</td>\n",
       "      <td>-0.077747</td>\n",
       "      <td>0.847621</td>\n",
       "      <td>1.000000</td>\n",
       "      <td>-0.066197</td>\n",
       "      <td>-0.006181</td>\n",
       "      <td>0.069721</td>\n",
       "      <td>0.013344</td>\n",
       "      <td>-0.046701</td>\n",
       "    </tr>\n",
       "    <tr>\n",
       "      <th>Population</th>\n",
       "      <td>0.004834</td>\n",
       "      <td>-0.296244</td>\n",
       "      <td>-0.072213</td>\n",
       "      <td>-0.066197</td>\n",
       "      <td>1.000000</td>\n",
       "      <td>0.069863</td>\n",
       "      <td>-0.108785</td>\n",
       "      <td>0.099773</td>\n",
       "      <td>-0.024650</td>\n",
       "    </tr>\n",
       "    <tr>\n",
       "      <th>AveOccup</th>\n",
       "      <td>0.018766</td>\n",
       "      <td>0.013191</td>\n",
       "      <td>-0.004852</td>\n",
       "      <td>-0.006181</td>\n",
       "      <td>0.069863</td>\n",
       "      <td>1.000000</td>\n",
       "      <td>0.002366</td>\n",
       "      <td>0.002476</td>\n",
       "      <td>-0.023737</td>\n",
       "    </tr>\n",
       "    <tr>\n",
       "      <th>Latitude</th>\n",
       "      <td>-0.079809</td>\n",
       "      <td>0.011173</td>\n",
       "      <td>0.106389</td>\n",
       "      <td>0.069721</td>\n",
       "      <td>-0.108785</td>\n",
       "      <td>0.002366</td>\n",
       "      <td>1.000000</td>\n",
       "      <td>-0.924664</td>\n",
       "      <td>-0.144160</td>\n",
       "    </tr>\n",
       "    <tr>\n",
       "      <th>Longitude</th>\n",
       "      <td>-0.015176</td>\n",
       "      <td>-0.108197</td>\n",
       "      <td>-0.027540</td>\n",
       "      <td>0.013344</td>\n",
       "      <td>0.099773</td>\n",
       "      <td>0.002476</td>\n",
       "      <td>-0.924664</td>\n",
       "      <td>1.000000</td>\n",
       "      <td>-0.045967</td>\n",
       "    </tr>\n",
       "    <tr>\n",
       "      <th>MedHouseVal</th>\n",
       "      <td>0.688075</td>\n",
       "      <td>0.105623</td>\n",
       "      <td>0.151948</td>\n",
       "      <td>-0.046701</td>\n",
       "      <td>-0.024650</td>\n",
       "      <td>-0.023737</td>\n",
       "      <td>-0.144160</td>\n",
       "      <td>-0.045967</td>\n",
       "      <td>1.000000</td>\n",
       "    </tr>\n",
       "  </tbody>\n",
       "</table>\n",
       "</div>"
      ],
      "text/plain": [
       "               MedInc  HouseAge  AveRooms  AveBedrms  Population  AveOccup  \\\n",
       "MedInc       1.000000 -0.119034  0.326895  -0.062040    0.004834  0.018766   \n",
       "HouseAge    -0.119034  1.000000 -0.153277  -0.077747   -0.296244  0.013191   \n",
       "AveRooms     0.326895 -0.153277  1.000000   0.847621   -0.072213 -0.004852   \n",
       "AveBedrms   -0.062040 -0.077747  0.847621   1.000000   -0.066197 -0.006181   \n",
       "Population   0.004834 -0.296244 -0.072213  -0.066197    1.000000  0.069863   \n",
       "AveOccup     0.018766  0.013191 -0.004852  -0.006181    0.069863  1.000000   \n",
       "Latitude    -0.079809  0.011173  0.106389   0.069721   -0.108785  0.002366   \n",
       "Longitude   -0.015176 -0.108197 -0.027540   0.013344    0.099773  0.002476   \n",
       "MedHouseVal  0.688075  0.105623  0.151948  -0.046701   -0.024650 -0.023737   \n",
       "\n",
       "             Latitude  Longitude  MedHouseVal  \n",
       "MedInc      -0.079809  -0.015176     0.688075  \n",
       "HouseAge     0.011173  -0.108197     0.105623  \n",
       "AveRooms     0.106389  -0.027540     0.151948  \n",
       "AveBedrms    0.069721   0.013344    -0.046701  \n",
       "Population  -0.108785   0.099773    -0.024650  \n",
       "AveOccup     0.002366   0.002476    -0.023737  \n",
       "Latitude     1.000000  -0.924664    -0.144160  \n",
       "Longitude   -0.924664   1.000000    -0.045967  \n",
       "MedHouseVal -0.144160  -0.045967     1.000000  "
      ]
     },
     "execution_count": 74,
     "metadata": {},
     "output_type": "execute_result"
    }
   ],
   "source": [
    "df.corr()"
   ]
  },
  {
   "cell_type": "markdown",
   "id": "dc91e530",
   "metadata": {},
   "source": [
    "Jeżeli chcielibyśmy wyliczyć korelację Spearmana wystarczy dodać parametr method = ‘spearman’"
   ]
  },
  {
   "cell_type": "code",
   "execution_count": 75,
   "id": "56ef2d21",
   "metadata": {},
   "outputs": [
    {
     "data": {
      "text/html": [
       "<div>\n",
       "<style scoped>\n",
       "    .dataframe tbody tr th:only-of-type {\n",
       "        vertical-align: middle;\n",
       "    }\n",
       "\n",
       "    .dataframe tbody tr th {\n",
       "        vertical-align: top;\n",
       "    }\n",
       "\n",
       "    .dataframe thead th {\n",
       "        text-align: right;\n",
       "    }\n",
       "</style>\n",
       "<table border=\"1\" class=\"dataframe\">\n",
       "  <thead>\n",
       "    <tr style=\"text-align: right;\">\n",
       "      <th></th>\n",
       "      <th>MedInc</th>\n",
       "      <th>HouseAge</th>\n",
       "      <th>AveRooms</th>\n",
       "      <th>AveBedrms</th>\n",
       "      <th>Population</th>\n",
       "      <th>AveOccup</th>\n",
       "      <th>Latitude</th>\n",
       "      <th>Longitude</th>\n",
       "      <th>MedHouseVal</th>\n",
       "    </tr>\n",
       "  </thead>\n",
       "  <tbody>\n",
       "    <tr>\n",
       "      <th>MedInc</th>\n",
       "      <td>1.000000</td>\n",
       "      <td>-0.147308</td>\n",
       "      <td>0.643671</td>\n",
       "      <td>-0.252426</td>\n",
       "      <td>0.006268</td>\n",
       "      <td>-0.044171</td>\n",
       "      <td>-0.088029</td>\n",
       "      <td>-0.009928</td>\n",
       "      <td>0.676778</td>\n",
       "    </tr>\n",
       "    <tr>\n",
       "      <th>HouseAge</th>\n",
       "      <td>-0.147308</td>\n",
       "      <td>1.000000</td>\n",
       "      <td>-0.231409</td>\n",
       "      <td>-0.120981</td>\n",
       "      <td>-0.283879</td>\n",
       "      <td>-0.024833</td>\n",
       "      <td>0.032440</td>\n",
       "      <td>-0.150752</td>\n",
       "      <td>0.074855</td>\n",
       "    </tr>\n",
       "    <tr>\n",
       "      <th>AveRooms</th>\n",
       "      <td>0.643671</td>\n",
       "      <td>-0.231409</td>\n",
       "      <td>1.000000</td>\n",
       "      <td>0.082046</td>\n",
       "      <td>-0.105385</td>\n",
       "      <td>0.018807</td>\n",
       "      <td>0.127134</td>\n",
       "      <td>-0.044783</td>\n",
       "      <td>0.263367</td>\n",
       "    </tr>\n",
       "    <tr>\n",
       "      <th>AveBedrms</th>\n",
       "      <td>-0.252426</td>\n",
       "      <td>-0.120981</td>\n",
       "      <td>0.082046</td>\n",
       "      <td>1.000000</td>\n",
       "      <td>0.027027</td>\n",
       "      <td>-0.132315</td>\n",
       "      <td>0.047197</td>\n",
       "      <td>0.010884</td>\n",
       "      <td>-0.125187</td>\n",
       "    </tr>\n",
       "    <tr>\n",
       "      <th>Population</th>\n",
       "      <td>0.006268</td>\n",
       "      <td>-0.283879</td>\n",
       "      <td>-0.105385</td>\n",
       "      <td>0.027027</td>\n",
       "      <td>1.000000</td>\n",
       "      <td>0.242337</td>\n",
       "      <td>-0.123626</td>\n",
       "      <td>0.123527</td>\n",
       "      <td>0.003839</td>\n",
       "    </tr>\n",
       "    <tr>\n",
       "      <th>AveOccup</th>\n",
       "      <td>-0.044171</td>\n",
       "      <td>-0.024833</td>\n",
       "      <td>0.018807</td>\n",
       "      <td>-0.132315</td>\n",
       "      <td>0.242337</td>\n",
       "      <td>1.000000</td>\n",
       "      <td>-0.150954</td>\n",
       "      <td>0.181468</td>\n",
       "      <td>-0.256594</td>\n",
       "    </tr>\n",
       "    <tr>\n",
       "      <th>Latitude</th>\n",
       "      <td>-0.088029</td>\n",
       "      <td>0.032440</td>\n",
       "      <td>0.127134</td>\n",
       "      <td>0.047197</td>\n",
       "      <td>-0.123626</td>\n",
       "      <td>-0.150954</td>\n",
       "      <td>1.000000</td>\n",
       "      <td>-0.879203</td>\n",
       "      <td>-0.165739</td>\n",
       "    </tr>\n",
       "    <tr>\n",
       "      <th>Longitude</th>\n",
       "      <td>-0.009928</td>\n",
       "      <td>-0.150752</td>\n",
       "      <td>-0.044783</td>\n",
       "      <td>0.010884</td>\n",
       "      <td>0.123527</td>\n",
       "      <td>0.181468</td>\n",
       "      <td>-0.879203</td>\n",
       "      <td>1.000000</td>\n",
       "      <td>-0.069667</td>\n",
       "    </tr>\n",
       "    <tr>\n",
       "      <th>MedHouseVal</th>\n",
       "      <td>0.676778</td>\n",
       "      <td>0.074855</td>\n",
       "      <td>0.263367</td>\n",
       "      <td>-0.125187</td>\n",
       "      <td>0.003839</td>\n",
       "      <td>-0.256594</td>\n",
       "      <td>-0.165739</td>\n",
       "      <td>-0.069667</td>\n",
       "      <td>1.000000</td>\n",
       "    </tr>\n",
       "  </tbody>\n",
       "</table>\n",
       "</div>"
      ],
      "text/plain": [
       "               MedInc  HouseAge  AveRooms  AveBedrms  Population  AveOccup  \\\n",
       "MedInc       1.000000 -0.147308  0.643671  -0.252426    0.006268 -0.044171   \n",
       "HouseAge    -0.147308  1.000000 -0.231409  -0.120981   -0.283879 -0.024833   \n",
       "AveRooms     0.643671 -0.231409  1.000000   0.082046   -0.105385  0.018807   \n",
       "AveBedrms   -0.252426 -0.120981  0.082046   1.000000    0.027027 -0.132315   \n",
       "Population   0.006268 -0.283879 -0.105385   0.027027    1.000000  0.242337   \n",
       "AveOccup    -0.044171 -0.024833  0.018807  -0.132315    0.242337  1.000000   \n",
       "Latitude    -0.088029  0.032440  0.127134   0.047197   -0.123626 -0.150954   \n",
       "Longitude   -0.009928 -0.150752 -0.044783   0.010884    0.123527  0.181468   \n",
       "MedHouseVal  0.676778  0.074855  0.263367  -0.125187    0.003839 -0.256594   \n",
       "\n",
       "             Latitude  Longitude  MedHouseVal  \n",
       "MedInc      -0.088029  -0.009928     0.676778  \n",
       "HouseAge     0.032440  -0.150752     0.074855  \n",
       "AveRooms     0.127134  -0.044783     0.263367  \n",
       "AveBedrms    0.047197   0.010884    -0.125187  \n",
       "Population  -0.123626   0.123527     0.003839  \n",
       "AveOccup    -0.150954   0.181468    -0.256594  \n",
       "Latitude     1.000000  -0.879203    -0.165739  \n",
       "Longitude   -0.879203   1.000000    -0.069667  \n",
       "MedHouseVal -0.165739  -0.069667     1.000000  "
      ]
     },
     "execution_count": 75,
     "metadata": {},
     "output_type": "execute_result"
    }
   ],
   "source": [
    "df.corr(method = 'spearman')"
   ]
  },
  {
   "cell_type": "markdown",
   "id": "c3c109cc",
   "metadata": {},
   "source": [
    "Z obu korelacji wynika, że najlepiej skorelowaną cechą z ceną domu (zmienną objaśniana) jest wysokość zarobków (zmienna objaśniająca). Przy budowie modelu regresyjnego, to ta cecha będzie jedną z najistotniejszych. To ona najlepiej swoimi wielkościami opisuje cenę domu."
   ]
  },
  {
   "cell_type": "markdown",
   "id": "a873dbd9",
   "metadata": {},
   "source": [
    "Skoro znamy najlepszą zmienną objaśniajacą, spójrzmy na wykres punktowy tych dwóch zmiennych."
   ]
  },
  {
   "cell_type": "code",
   "execution_count": 76,
   "id": "29b6f223",
   "metadata": {},
   "outputs": [
    {
     "data": {
      "image/png": "[encoded data removed]",
      "text/plain": [
       "<Figure size 640x480 with 1 Axes>"
      ]
     },
     "metadata": {},
     "output_type": "display_data"
    }
   ],
   "source": [
    "plt.plot(df['MedInc'], df['MedHouseVal'],  linestyle = '', marker = '.', alpha = 0.1) \n",
    "# parametr alpha wykorzystywany jest do ustawienia przejrzystosci punktów. \n",
    "# Im ciemniejszy obszar na wykresie tym więcej punktów się tam znajduje\n",
    "plt.ylabel('MedHouseVal')\n",
    "plt.xlabel('MedInc')\n",
    "plt.title('Wartość domu vs Wysokość zarobków')\n",
    "plt.show()"
   ]
  },
  {
   "cell_type": "markdown",
   "id": "c97cc1ec",
   "metadata": {},
   "source": [
    "Na wykresie widać tendencję zwiększania się wartości domów przy zwiększajacych się zarobkach."
   ]
  },
  {
   "cell_type": "markdown",
   "id": "088795a0",
   "metadata": {},
   "source": [
    "Korelacji nie musimy liczyć dla wszystkich kolumn w tabeli. Możemy ją takze zmierzyć tylko dla dwóch wybranych kolumn. Służą do tego metody:\n",
    "\n",
    "- np.corrcoef() (korelacja Pearsona)\n",
    "\n",
    "- scipy.stats.pearsonr() (korelacja Pearsona)\n",
    "\n",
    "- scipy.stats.spearmanr() (korelacja Spearmana)"
   ]
  },
  {
   "cell_type": "code",
   "execution_count": 77,
   "id": "03281509",
   "metadata": {},
   "outputs": [
    {
     "data": {
      "text/plain": [
       "array([[1.        , 0.68807521],\n",
       "       [0.68807521, 1.        ]])"
      ]
     },
     "execution_count": 77,
     "metadata": {},
     "output_type": "execute_result"
    }
   ],
   "source": [
    "np.corrcoef(df['MedHouseVal'], df['MedInc'])"
   ]
  },
  {
   "cell_type": "code",
   "execution_count": 78,
   "id": "e1c20d6f",
   "metadata": {},
   "outputs": [
    {
     "data": {
      "text/plain": [
       "PearsonRResult(statistic=0.6880752079585479, pvalue=0.0)"
      ]
     },
     "execution_count": 78,
     "metadata": {},
     "output_type": "execute_result"
    }
   ],
   "source": [
    "from scipy.stats import pearsonr\n",
    "\n",
    "pearsonr(df['MedHouseVal'], df['MedInc'])"
   ]
  },
  {
   "cell_type": "code",
   "execution_count": 79,
   "id": "9706f7ae",
   "metadata": {},
   "outputs": [
    {
     "data": {
      "text/plain": [
       "SignificanceResult(statistic=0.6767781095942506, pvalue=0.0)"
      ]
     },
     "execution_count": 79,
     "metadata": {},
     "output_type": "execute_result"
    }
   ],
   "source": [
    "from scipy.stats import spearmanr\n",
    "\n",
    "spearmanr(df['MedHouseVal'], df['MedInc'])"
   ]
  },
  {
   "cell_type": "markdown",
   "id": "5301bd10",
   "metadata": {},
   "source": [
    "Zwróćmy uwagę, że metody z biblioteki scipy zwracają dwie wartości. Pierwsza jest to współczynnik korelacji, a druga to P-value, której teraz dokładnie się przyjrzymy"
   ]
  },
  {
   "cell_type": "markdown",
   "id": "8ad702c9",
   "metadata": {},
   "source": [
    "# Testy statystyczne"
   ]
  },
  {
   "cell_type": "markdown",
   "id": "16bd7a49",
   "metadata": {},
   "source": [
    "### Definicje\n",
    "###### Test statystyczny \n",
    "– formuła matematyczna pozwalająca oszacować prawdopodobieństwo spełnienia pewnej hipotezy statystycznej w populacji na podstawie próby losowej z tej populacji.\n",
    "\n",
    "\n",
    "###### Hipoteza statystyczna \n",
    "- dowolne przypuszczenie co do rozkładu populacji\n",
    "\n",
    "\n",
    "###### Hipoteza zerowa $H_{0}$\n",
    " - Przypuszczenie, które chcemy sprawdzić za pomocą testów statystycznych.\n",
    "\n",
    "Przykład: w metodzie pearsonr hipotezą zerową jest założenie, że nie istnieje korelacja pomiędzy zbiorami danych \n",
    "\n",
    "###### P-value \n",
    "- prawdopodobieństwo kumulatywne wylosowania próby takiej lub bardziej skrajnej jak zaobserwowana, przy założeniu, że hipoteza zerowa jest prawdziwa\n",
    "\n",
    "Przykład: W korelacji pomiędzy wartoscią domu, a zarobkami P-value wynosi 0. Możemy więc stwierdzić, że nie istnieje możliwość wylosowania takiej próby, aby korelacja była wyższa lub taka sama z jednoczesnym założeniem, że korelacja ta nie istnieje."
   ]
  },
  {
   "cell_type": "markdown",
   "id": "a1db7a48",
   "metadata": {},
   "source": [
    "Przy wykorzystywaniu testów statystycznych ustala się pewien próg (poziom istotności $\\alpha$ ). Jeżeli P-value jest mniejsze niż ten poziom można odrzucić hipotezę zerową. Zazwyczaj $\\alpha$ = 0.05\n",
    "Przykład W korelacji pomiędzy wartoscią domu, a zarobkami P-value < 0.05, więc odrzucamy hipotezę zerową."
   ]
  },
  {
   "cell_type": "markdown",
   "id": "24e9490f",
   "metadata": {},
   "source": [
    "Za pomocą P-value oraz poziomu istotności możemy odrzucić hipotezę zerową. Jednak, nie oznacza to, że potwierdzamy hipotezę alternatywną ($H_{1}$)."
   ]
  },
  {
   "cell_type": "markdown",
   "id": "8877e087",
   "metadata": {},
   "source": [
    "Za pomocą testów statystycznych możemy także sprawdzić czy dane posiadają konkretny rozkład.\n",
    "\n",
    "Sprawdźmy więc, czy ceny domów posiadaja rozkład normalny. Możemy to zrobić za pomocą metody scipy.stats.normaltest()\n",
    "\n",
    "Hipotezą zerową w tej metodzie jest załozenie, że dane mają rozkład normalny.\n",
    "\n",
    "Przyjmijmy poziom istotności $\\alpha$ = 0.05. Jeżeli P-value < 0.05 Będziemy mogli odrzucić tą hipotezę i powiedzieć, że cena domów nie posiada rozkładu normalnego"
   ]
  },
  {
   "cell_type": "code",
   "execution_count": 81,
   "id": "ba1efdfd",
   "metadata": {},
   "outputs": [
    {
     "data": {
      "text/plain": [
       "NormaltestResult(statistic=2430.931051066072, pvalue=0.0)"
      ]
     },
     "execution_count": 81,
     "metadata": {},
     "output_type": "execute_result"
    }
   ],
   "source": [
    "normaltest(df['MedHouseVal'])"
   ]
  },
  {
   "cell_type": "markdown",
   "id": "8bb11229",
   "metadata": {},
   "source": [
    "P-value = 0, a więc odrzucamy hipotezę, że dane posiadają rozkład normalny\n",
    "\n",
    "Sprawdźmy co by jednak było, gdyby dane faktycznie były z rozkładu normalnego.\n",
    "\n",
    "Wylosujmy 10 000 próbek z rozkładu normalnego"
   ]
  },
  {
   "cell_type": "code",
   "execution_count": 82,
   "id": "32cabf90",
   "metadata": {},
   "outputs": [],
   "source": [
    "np.random.seed(42) #pozwala na wylosowanie zawsze tych samych danych\n",
    "norm = [np.random.normal() for i in range(100000)]"
   ]
  },
  {
   "cell_type": "markdown",
   "id": "b6930ba0",
   "metadata": {},
   "source": [
    "Spójrzmy na histogram"
   ]
  },
  {
   "cell_type": "code",
   "execution_count": 83,
   "id": "f100f727",
   "metadata": {},
   "outputs": [
    {
     "data": {
      "text/plain": [
       "(array([4.0000e+00, 1.4000e+01, 6.8000e+01, 2.7800e+02, 9.2800e+02,\n",
       "        2.4550e+03, 5.3400e+03, 9.6380e+03, 1.4271e+04, 1.7163e+04,\n",
       "        1.7333e+04, 1.4015e+04, 9.5850e+03, 5.2420e+03, 2.4380e+03,\n",
       "        8.8000e+02, 2.6800e+02, 6.2000e+01, 1.7000e+01, 1.0000e+00]),\n",
       " array([-4.46560386, -4.01836946, -3.57113505, -3.12390065, -2.67666624,\n",
       "        -2.22943183, -1.78219743, -1.33496302, -0.88772862, -0.44049421,\n",
       "         0.00674019,  0.4539746 ,  0.90120901,  1.34844341,  1.79567782,\n",
       "         2.24291222,  2.69014663,  3.13738103,  3.58461544,  4.03184985,\n",
       "         4.47908425]),\n",
       " <BarContainer object of 20 artists>)"
      ]
     },
     "execution_count": 83,
     "metadata": {},
     "output_type": "execute_result"
    },
    {
     "data": {
      "image/png": "[encoded data removed]",
      "text/plain": [
       "<Figure size 640x480 with 1 Axes>"
      ]
     },
     "metadata": {},
     "output_type": "display_data"
    }
   ],
   "source": [
    "plt.hist(norm, bins = 20)"
   ]
  },
  {
   "cell_type": "markdown",
   "id": "a7681e8b",
   "metadata": {},
   "source": [
    "A teraz sprawdźmy, czy za pomocą testu statystycznego możemy stwierdzić, że rozkład jest normalny"
   ]
  },
  {
   "cell_type": "code",
   "execution_count": 85,
   "id": "0dd13a0b",
   "metadata": {},
   "outputs": [
    {
     "data": {
      "text/plain": [
       "NormaltestResult(statistic=0.31105797316869505, pvalue=0.8559622651469295)"
      ]
     },
     "execution_count": 85,
     "metadata": {},
     "output_type": "execute_result"
    }
   ],
   "source": [
    "normaltest(norm)"
   ]
  },
  {
   "cell_type": "markdown",
   "id": "74c41f79",
   "metadata": {},
   "source": [
    "P-value > 0.05, a więc nie możemy odrzucić hipotezy zerowej. Nie oznacza, to że rozkład musi być normalny, jednak jest to możliwe\n",
    "\n",
    "Sprawdźmy, czy cena domu posiada inny rozkład.\n",
    "\n",
    "Metoda, która pozwala sprawdzić inne często występujące rozkłady to $scipy.stats.anderson()$\n",
    "\n",
    "Za jej pomocą możemy sprawdzić takie rozkłady jak:\n",
    "\n",
    "- norm - rozkład normalny\n",
    "\n",
    "- expon - rozkład wykładniczy\n",
    "\n",
    "- logistic - rozkład logistyczny\n",
    "\n",
    "- gumbel - rozkład Gumbela"
   ]
  },
  {
   "cell_type": "code",
   "execution_count": 86,
   "id": "d8177437",
   "metadata": {},
   "outputs": [
    {
     "name": "stdout",
     "output_type": "stream",
     "text": [
      "Sprawdzamy czy rozkład jest  norm\n",
      "AndersonResult(statistic=501.76927817096293, critical_values=array([0.576, 0.656, 0.787, 0.918, 1.092]), significance_level=array([15. , 10. ,  5. ,  2.5,  1. ]), fit_result=  params: FitParams(loc=2.068558169089147, scale=1.1539561587441387)\n",
      " success: True\n",
      " message: '`anderson` successfully fit the distribution to the data.')\n",
      "Sprawdzamy czy rozkład jest  expon\n",
      "AndersonResult(statistic=1999.7321503644089, critical_values=array([0.922, 1.078, 1.341, 1.606, 1.957]), significance_level=array([15. , 10. ,  5. ,  2.5,  1. ]), fit_result=  params: FitParams(loc=0.0, scale=2.068558169089147)\n",
      " success: True\n",
      " message: '`anderson` successfully fit the distribution to the data.')\n",
      "Sprawdzamy czy rozkład jest  logistic\n",
      "AndersonResult(statistic=346.85281913855215, critical_values=array([0.426, 0.563, 0.66 , 0.769, 0.906, 1.01 ]), significance_level=array([25. , 10. ,  5. ,  2.5,  1. ,  0.5]), fit_result=  params: FitParams(loc=1.9349363857771524, scale=0.6388770232823126)\n",
      " success: True\n",
      " message: '`anderson` successfully fit the distribution to the data.')\n",
      "Sprawdzamy czy rozkład jest  gumbel\n",
      "AndersonResult(statistic=1156.3864507171602, critical_values=array([0.473, 0.636, 0.756, 0.876, 1.037]), significance_level=array([25. , 10. ,  5. ,  2.5,  1. ]), fit_result=  params: FitParams(loc=2.6938727629324233, scale=1.3327039128959755)\n",
      " success: True\n",
      " message: '`anderson` successfully fit the distribution to the data.')\n"
     ]
    }
   ],
   "source": [
    "for test in ['norm', 'expon', 'logistic', 'gumbel']:\n",
    "    print('Sprawdzamy czy rozkład jest ', test)\n",
    "    print( anderson(df['MedHouseVal'], dist = test))\n",
    "    "
   ]
  },
  {
   "cell_type": "markdown",
   "id": "b37e747e",
   "metadata": {},
   "source": [
    "W dokumentacji danej metody można wyczytać, że jeżeli wartość testu (statistic) jest większa od wartości krytycznych (critical_values) to dane nie należą do testowanego rozkładu, co oznacza, że rozkład ceny domow nie należy do żadnego z wyżej wymienonych.\n",
    "\n",
    "W bibliotece scipy.stats można znaleść inne testy statystyczne."
   ]
  }
 ],
 "metadata": {
  "kernelspec": {
   "display_name": "Python [conda env:tensor] *",
   "language": "python",
   "name": "conda-env-tensor-py"
  },
  "language_info": {
   "codemirror_mode": {
    "name": "ipython",
    "version": 3
   },
   "file_extension": ".py",
   "mimetype": "text/x-python",
   "name": "python",
   "nbconvert_exporter": "python",
   "pygments_lexer": "ipython3",
   "version": "3.11.5"
  }
 },
 "nbformat": 4,
 "nbformat_minor": 5
}
