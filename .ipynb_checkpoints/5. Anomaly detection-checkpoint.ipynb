{
 "cells": [
  {
   "cell_type": "markdown",
   "id": "dec14d82",
   "metadata": {},
   "source": [
    "# Wykrywanie anomalii - definicje\n",
    "\n",
    "\n",
    "### Drzewa izolujące\n",
    "\n",
    "Zdefiniujmy drzewo izolujące.\n",
    "\n",
    "###### Def\n",
    "Niech $X = \\{x_1, x_2, \\ldots, x_n\\}$ będzie zbiorem d wymiarowych punktów i niech $X' \\subset X$. Drzewo izolacji będzie zdefiniowane przez następujące własności.\n",
    "\n",
    "1. Dla każdego węzła **T** w drzewie, T jest zewnętrznym węzłem (liściem) bez dzieci albo wewnętrznym węzłem z dokładnie dwoma węzłami potomnymi $T_l$ i $T_r$ oraz dokładnie jednym testem.\n",
    " \n",
    "2. Test składa się z atrybutu $q$ i wartość podziału $p$, takiej że test $q < p$ dzieli punkty na $T_l$ i $T_r$"
   ]
  },
  {
   "cell_type": "markdown",
   "id": "5ff62978",
   "metadata": {},
   "source": [
    "Mając naszą próbkę danych **X** dzielimy ją rekurencyjnie losowo wybierając atrybut **q** i wartość podziału **p** dopóki nie zajdzie jedno z natępujących:\n",
    " \n",
    " - węzeł będzie miał tylko jeden element\n",
    " - wszystkie elementy w węźle będą miały taką samą wartość"
   ]
  },
  {
   "cell_type": "markdown",
   "id": "eccd90bf",
   "metadata": {},
   "source": [
    "Przy uczeniu poszczególnych drzew w lesie stosujemy próbkowanie, uczymy drzewo na losowo wybranym podzbiorze danych."
   ]
  },
  {
   "cell_type": "markdown",
   "id": "969d76ab",
   "metadata": {},
   "source": [
    "Do oznaczenia, które elementy zbioru są anomaliami potrzebujemy jeszcze miary odstawania. Dla lasu izolacji, którego pojedncze drzewo ma głębokość **n**, wyraża ona się w poniższy sposób dla punktu **x**.\n",
    "\n",
    "$s(x,n) = 2^{-\\frac{E(h(x))}{c(n)}}$"
   ]
  },
  {
   "cell_type": "markdown",
   "id": "af7d3b06",
   "metadata": {},
   "source": [
    "Wyjasnijmy co oznaczaja poszczególne elementy równania. **E(h(x))** to wartość oczekiwana długości ścieżki od korzenia drzewa do końcowego węzła drzewa zawierającego punkt **x**. Wartość c(n) wywodzi się z teorii poszukiwań binarnych drzew i oznacza przeciętną długość sciezki dla danego n. Wzór na c(n) to:\n",
    "\n",
    "$c(n) = 2H(n-1) - (\\frac{2(n-1)}{n})$\n",
    "\n",
    "gdzie $H(i) \\approx log(i) + 0.5772$. Wiedząć że niskie h(x) sugeruje, że mozemy miec do czynienia z anomalią gdyż elementy odstające są łatwiejsze do wyizolowania niż normalne, możemy wywnioskować:\n",
    "\n",
    "- jeżeli przypadki zwracają wartości s zbliżone do 1 możemy je uznać za anomalie\n",
    "- jeżeli wartości są wyraźnie mniejsze od 0.5 wtedy własciwym jest uznanie ich za normalne elementy\n",
    "- jeżeli wartości dla wszystkich przypadków są zbliżone do 0.5, wtedy nie mamy do czynienia z elementami odstającymi w badanym zbiorze"
   ]
  },
  {
   "cell_type": "markdown",
   "id": "dbc2bada",
   "metadata": {},
   "source": [
    "# Local Outlier Factor\n",
    "W celu zrozumienia jak działa Local Outlier Factor wprowadzimy kilka definicji.\n",
    "\n",
    "Pierwszą z nich jest definicja k-dystansu. K-dystans to dystans między objektem, a jego k-tym najbliższym sąsiadem."
   ]
  },
  {
   "cell_type": "markdown",
   "id": "f9e8c09e",
   "metadata": {},
   "source": [
    "###### Def\n",
    "\n",
    "Dla każdej liczby $k \\in \\mathbb{Z}^+$, zbioru **X**, definiujemy k-dystans miedzy elementem $x_1$ i  $x_2$, gdzie $x_1, x_2 \\in X$ jako dystans $N_k(x1) = d(x_1,x_2)$, spełniający warunki\n",
    "\n",
    "1. Dla co najmniej k takich objektów, że $x'$, że $x' \\in X \\setminus \\{x_1\\}$ zachodzi $d(x_1,x') \\leq d(x_1,x_2)$ \n",
    "\n",
    "2. Dla co najwyżej k-1 takich objektów, że $x'$, że $x' \\in X \\setminus \\{x_1\\}$ zachodzi $d(x_1,x') \\le d(x_1,x_2)$ "
   ]
  },
  {
   "cell_type": "markdown",
   "id": "de39c6cb",
   "metadata": {},
   "source": [
    "Obiekty których odległość od badanego obiektu $x_1$ jest niewiększa od zdefiniowanego tutaj k-dystansu nazywamy k najblizszym sąsiadami $x_1$ i oznaczamy $N N_k(x_1)$. Z tym pojeciem jest powiązana kolejna koncepcja użyteczna w algorytmie LOF, koncepcja dystans osiągalności. Dla obiektów nie należących do k najbliższych sąsiadów obiektu do którego chcemy wyznaczyc dystans, dystans odległości będzie tożsamy z dystansem wedle obranej przez nas metryki. Natomiast dla obiektów należacych do k-sasiedztwa $x_1$ odległość będzie równa k-dystansowi w punkcie $x_1$ czyli $N_k(x_1)$. Zatem dystans osiągalności $x' \\in X$ względem $x_1$, to:\n",
    "\n",
    "$rd_k(x',x_1) = max(N_k(x_1), d(x_1,x'))$\n",
    "\n",
    "Celem wprowadzenia tego dystansu jest zwiekszenie stabilnosci algorytmu i ograniczenie statystycznych fluktuacji $d(x1,x2)$"
   ]
  }
 ],
 "metadata": {
  "kernelspec": {
   "display_name": "Python [conda env:tensor] *",
   "language": "python",
   "name": "conda-env-tensor-py"
  },
  "language_info": {
   "codemirror_mode": {
    "name": "ipython",
    "version": 3
   },
   "file_extension": ".py",
   "mimetype": "text/x-python",
   "name": "python",
   "nbconvert_exporter": "python",
   "pygments_lexer": "ipython3",
   "version": "3.11.5"
  }
 },
 "nbformat": 4,
 "nbformat_minor": 5
}
