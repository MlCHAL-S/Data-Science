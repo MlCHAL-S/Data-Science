{
 "cells": [
  {
   "cell_type": "markdown",
   "id": "1c00e55f",
   "metadata": {},
   "source": [
    "# Comparison of Machine Learning Classifiers"
   ]
  },
  {
   "cell_type": "markdown",
   "id": "cf4b4698",
   "metadata": {},
   "source": [
    "\n",
    "This project aims to compare the performance of various classifiers using synthetic data generated with **make_classification** from **sklearn.datasets**. The classifiers are evaluated based on their accuracy scores using a train-test split approach.\n",
    "\n",
    "<ul style=\"list-style-type: disc;\">\n",
    "    <li><b>Data Generation</b>: Synthetic data with 1000 samples, 5 features, and 2 classes is generated using make_classification.</li>\n",
    "    <li><b>Train-Test Split</b>: The data is split into training and testing sets with an 80-20 ratio using train_test_split from sklearn.model_selection.</li>\n",
    "    <li><b>Classifier Selection</b>: Thirteen different classifiers are selected from sklearn library, including k-Nearest Neighbors, Support Vector Machines with various kernels, Gaussian Process, Gradient Boosting, Decision Trees, Extra Trees, Random Forest, Neural Network, AdaBoost, Naive Bayes, Quadratic Discriminant Analysis, and Stochastic Gradient Descent.</li>\n",
    "    <li><b>Model Training/<b>: Each classifier is trained using the training data.</li>\n",
    "    <li><b>Model Evaluation</b>: The accuracy scores of all classifiers are computed using the testing data.</li>\n",
    "    <li><b>Visualization</b>: The accuracy scores of the classifiers are visualized using a horizontal bar plot, providing a comparative analysis of their performance.</li>\n",
    "</ul>"
   ]
  },
  {
   "cell_type": "markdown",
   "id": "7a339723",
   "metadata": {},
   "source": [
    "## 1. Create a synthetic dataset"
   ]
  },
  {
   "cell_type": "markdown",
   "id": "96b388c9",
   "metadata": {},
   "source": [
    "#### 1.1 Generate the set"
   ]
  },
  {
   "cell_type": "code",
   "execution_count": 52,
   "id": "edbd2f34",
   "metadata": {},
   "outputs": [],
   "source": [
    "from sklearn.datasets import make_classification\n",
    "\n",
    "X, Y = make_classification(n_samples=1000, n_classes=2, n_features=5, n_redundant=0, random_state=1)"
   ]
  },
  {
   "cell_type": "markdown",
   "id": "11bed7a2",
   "metadata": {},
   "source": [
    "#### 1.2 Short dataset examination"
   ]
  },
  {
   "cell_type": "code",
   "execution_count": 53,
   "id": "cee61c2c",
   "metadata": {},
   "outputs": [
    {
     "data": {
      "text/plain": [
       "((1000, 5), (1000,))"
      ]
     },
     "execution_count": 53,
     "metadata": {},
     "output_type": "execute_result"
    }
   ],
   "source": [
    "X.shape, Y.shape"
   ]
  },
  {
   "cell_type": "markdown",
   "id": "172235d9",
   "metadata": {},
   "source": [
    "## 2. Splitting data"
   ]
  },
  {
   "cell_type": "markdown",
   "id": "6ce70d6c",
   "metadata": {},
   "source": [
    "#### 2.1 Data split"
   ]
  },
  {
   "cell_type": "code",
   "execution_count": 54,
   "id": "3feac8b6",
   "metadata": {},
   "outputs": [],
   "source": [
    "from sklearn.model_selection import train_test_split\n",
    "\n",
    "X_train, X_test, Y_train, Y_test = train_test_split(X, Y, test_size=0.2) "
   ]
  },
  {
   "cell_type": "markdown",
   "id": "55d867c0",
   "metadata": {},
   "source": [
    "#### 2.2 Data dimension examination"
   ]
  },
  {
   "cell_type": "code",
   "execution_count": 55,
   "id": "e64eb13d",
   "metadata": {},
   "outputs": [
    {
     "data": {
      "text/plain": [
       "((800, 5), (800,))"
      ]
     },
     "execution_count": 55,
     "metadata": {},
     "output_type": "execute_result"
    }
   ],
   "source": [
    "X_train.shape, Y_train.shape"
   ]
  },
  {
   "cell_type": "code",
   "execution_count": 56,
   "id": "f8c774c9",
   "metadata": {},
   "outputs": [
    {
     "data": {
      "text/plain": [
       "((200, 5), (200,))"
      ]
     },
     "execution_count": 56,
     "metadata": {},
     "output_type": "execute_result"
    }
   ],
   "source": [
    "X_test.shape, Y_test.shape"
   ]
  },
  {
   "cell_type": "markdown",
   "id": "bea54320",
   "metadata": {},
   "source": [
    "## 3 Building Classification Models"
   ]
  },
  {
   "cell_type": "markdown",
   "id": "0449b383",
   "metadata": {},
   "source": [
    "#### 3.1 Importing modules"
   ]
  },
  {
   "cell_type": "code",
   "execution_count": 57,
   "id": "f2535db5",
   "metadata": {},
   "outputs": [],
   "source": [
    "from sklearn.neural_network import MLPClassifier\n",
    "from sklearn.neighbors import KNeighborsClassifier\n",
    "from sklearn.svm import SVC\n",
    "from sklearn.gaussian_process import GaussianProcessClassifier\n",
    "from sklearn.ensemble import GradientBoostingClassifier\n",
    "from sklearn.gaussian_process.kernels import RBF\n",
    "from sklearn.tree import DecisionTreeClassifier\n",
    "from sklearn.ensemble import ExtraTreesClassifier\n",
    "from sklearn.ensemble import RandomForestClassifier\n",
    "from sklearn.ensemble import AdaBoostClassifier\n",
    "from sklearn.naive_bayes import GaussianNB\n",
    "from sklearn.discriminant_analysis import QuadraticDiscriminantAnalysis\n",
    "from sklearn.linear_model import SGDClassifier"
   ]
  },
  {
   "cell_type": "markdown",
   "id": "2093a8e8",
   "metadata": {},
   "source": [
    "#### 3.2 Defining modules"
   ]
  },
  {
   "cell_type": "code",
   "execution_count": 58,
   "id": "c3ee39c0",
   "metadata": {},
   "outputs": [],
   "source": [
    "classifiers = {\n",
    "    \"Nearest_Neighbors\": KNeighborsClassifier(3),\n",
    "    \"Linear_SVM\": SVC(kernel=\"linear\", C=0.025),\n",
    "    \"Polynomial_SVM\": SVC(kernel=\"poly\", degree=3, C=0.025),\n",
    "    \"RBF_SVM\": SVC(kernel=\"rbf\", C=1, gamma=2),\n",
    "    \"Gaussian_Process\": GaussianProcessClassifier(1.0 * RBF(1.0)),\n",
    "    \"Gradient_Boosting\": GradientBoostingClassifier(n_estimators=100, learning_rate=1.0),\n",
    "    \"Decision_Tree\": DecisionTreeClassifier(max_depth=5),\n",
    "    \"Extra_Trees\": ExtraTreesClassifier(n_estimators=10, min_samples_split=2),\n",
    "    \"Random_Forest\": RandomForestClassifier(max_depth=5, n_estimators=100),\n",
    "    \"Neural_Net\": MLPClassifier(alpha=1, max_iter=1000),\n",
    "    \"AdaBoost\": AdaBoostClassifier(n_estimators=100),\n",
    "    \"Naive_Bayes\": GaussianNB(),\n",
    "    \"QDA\": QuadraticDiscriminantAnalysis(),\n",
    "    \"SGD\": SGDClassifier(loss=\"hinge\", penalty=\"l2\")\n",
    "}"
   ]
  },
  {
   "cell_type": "markdown",
   "id": "46f25d88",
   "metadata": {},
   "source": [
    "#### 3.3 Building, training and recording accuracy scores"
   ]
  },
  {
   "cell_type": "code",
   "execution_count": 59,
   "id": "17c28c79",
   "metadata": {},
   "outputs": [
    {
     "data": {
      "text/plain": [
       "[0.845,\n",
       " 0.86,\n",
       " 0.805,\n",
       " 0.825,\n",
       " 0.87,\n",
       " 0.85,\n",
       " 0.84,\n",
       " 0.865,\n",
       " 0.885,\n",
       " 0.875,\n",
       " 0.855,\n",
       " 0.865,\n",
       " 0.865,\n",
       " 0.78]"
      ]
     },
     "execution_count": 59,
     "metadata": {},
     "output_type": "execute_result"
    }
   ],
   "source": [
    "scores = list()\n",
    "\n",
    "for name, classifier in classifiers.items():\n",
    "    classifier.fit(X_train, Y_train)\n",
    "    score = classifier.score(X_test, Y_test)\n",
    "    scores.append(score)\n",
    "    \n",
    "scores"
   ]
  },
  {
   "cell_type": "markdown",
   "id": "6767fdbc",
   "metadata": {},
   "source": [
    "## 4. Analysis of models' performances"
   ]
  },
  {
   "cell_type": "markdown",
   "id": "c4ac6aa1",
   "metadata": {},
   "source": [
    "#### 4.1 Creating Pandas data frame"
   ]
  },
  {
   "cell_type": "code",
   "execution_count": 60,
   "id": "1a1bffe4",
   "metadata": {},
   "outputs": [
    {
     "data": {
      "text/html": [
       "<div>\n",
       "<style scoped>\n",
       "    .dataframe tbody tr th:only-of-type {\n",
       "        vertical-align: middle;\n",
       "    }\n",
       "\n",
       "    .dataframe tbody tr th {\n",
       "        vertical-align: top;\n",
       "    }\n",
       "\n",
       "    .dataframe thead th {\n",
       "        text-align: right;\n",
       "    }\n",
       "</style>\n",
       "<table border=\"1\" class=\"dataframe\">\n",
       "  <thead>\n",
       "    <tr style=\"text-align: right;\">\n",
       "      <th></th>\n",
       "      <th>name</th>\n",
       "      <th>score</th>\n",
       "    </tr>\n",
       "  </thead>\n",
       "  <tbody>\n",
       "    <tr>\n",
       "      <th>0</th>\n",
       "      <td>Nearest_Neighbors</td>\n",
       "      <td>0.845</td>\n",
       "    </tr>\n",
       "    <tr>\n",
       "      <th>1</th>\n",
       "      <td>Linear_SVM</td>\n",
       "      <td>0.860</td>\n",
       "    </tr>\n",
       "    <tr>\n",
       "      <th>2</th>\n",
       "      <td>Polynomial_SVM</td>\n",
       "      <td>0.805</td>\n",
       "    </tr>\n",
       "    <tr>\n",
       "      <th>3</th>\n",
       "      <td>RBF_SVM</td>\n",
       "      <td>0.825</td>\n",
       "    </tr>\n",
       "    <tr>\n",
       "      <th>4</th>\n",
       "      <td>Gaussian_Process</td>\n",
       "      <td>0.870</td>\n",
       "    </tr>\n",
       "    <tr>\n",
       "      <th>5</th>\n",
       "      <td>Gradient_Boosting</td>\n",
       "      <td>0.850</td>\n",
       "    </tr>\n",
       "    <tr>\n",
       "      <th>6</th>\n",
       "      <td>Decision_Tree</td>\n",
       "      <td>0.840</td>\n",
       "    </tr>\n",
       "    <tr>\n",
       "      <th>7</th>\n",
       "      <td>Extra_Trees</td>\n",
       "      <td>0.865</td>\n",
       "    </tr>\n",
       "    <tr>\n",
       "      <th>8</th>\n",
       "      <td>Random_Forest</td>\n",
       "      <td>0.885</td>\n",
       "    </tr>\n",
       "    <tr>\n",
       "      <th>9</th>\n",
       "      <td>Neural_Net</td>\n",
       "      <td>0.875</td>\n",
       "    </tr>\n",
       "    <tr>\n",
       "      <th>10</th>\n",
       "      <td>AdaBoost</td>\n",
       "      <td>0.855</td>\n",
       "    </tr>\n",
       "    <tr>\n",
       "      <th>11</th>\n",
       "      <td>Naive_Bayes</td>\n",
       "      <td>0.865</td>\n",
       "    </tr>\n",
       "    <tr>\n",
       "      <th>12</th>\n",
       "      <td>QDA</td>\n",
       "      <td>0.865</td>\n",
       "    </tr>\n",
       "    <tr>\n",
       "      <th>13</th>\n",
       "      <td>SGD</td>\n",
       "      <td>0.780</td>\n",
       "    </tr>\n",
       "  </tbody>\n",
       "</table>\n",
       "</div>"
      ],
      "text/plain": [
       "                 name  score\n",
       "0   Nearest_Neighbors  0.845\n",
       "1          Linear_SVM  0.860\n",
       "2      Polynomial_SVM  0.805\n",
       "3             RBF_SVM  0.825\n",
       "4    Gaussian_Process  0.870\n",
       "5   Gradient_Boosting  0.850\n",
       "6       Decision_Tree  0.840\n",
       "7         Extra_Trees  0.865\n",
       "8       Random_Forest  0.885\n",
       "9          Neural_Net  0.875\n",
       "10           AdaBoost  0.855\n",
       "11        Naive_Bayes  0.865\n",
       "12                QDA  0.865\n",
       "13                SGD  0.780"
      ]
     },
     "execution_count": 60,
     "metadata": {},
     "output_type": "execute_result"
    }
   ],
   "source": [
    "import pandas as pd\n",
    "\n",
    "df = pd.DataFrame({\"name\": classifiers.keys(), \"score\": scores})\n",
    "df"
   ]
  },
  {
   "cell_type": "markdown",
   "id": "9a697c88",
   "metadata": {},
   "source": [
    "#### 4.2 Applying color formatting to the data frame and plotting the result"
   ]
  },
  {
   "cell_type": "code",
   "execution_count": 61,
   "id": "16579b70",
   "metadata": {},
   "outputs": [
    {
     "data": {
      "image/png": "[encoded data removed]",
      "text/plain": [
       "<Figure size 640x480 with 2 Axes>"
      ]
     },
     "metadata": {},
     "output_type": "display_data"
    }
   ],
   "source": [
    "import matplotlib.pyplot as plt\n",
    "import matplotlib.cm as cm\n",
    "\n",
    "fig, ax = plt.subplots()\n",
    "\n",
    "sm = cm.ScalarMappable(cmap=plt.cm.Blues)\n",
    "sm.set_array(df[\"score\"])\n",
    "cbar = plt.colorbar(sm, ax=ax)\n",
    "cbar.set_label(\"Score\")\n",
    "\n",
    "bars = ax.barh(df[\"name\"], df[\"score\"], color=plt.cm.Blues(df[\"score\"]))\n",
    "\n",
    "ax.set_xlabel(\"Score\")\n",
    "ax.set_ylabel(\"Classifier\")\n",
    "ax.set_title(\"Scores of Classifiers\")\n",
    "\n",
    "plt.show()"
   ]
  }
 ],
 "metadata": {
  "kernelspec": {
   "display_name": "Python [conda env:tensor] *",
   "language": "python",
   "name": "conda-env-tensor-py"
  },
  "language_info": {
   "codemirror_mode": {
    "name": "ipython",
    "version": 3
   },
   "file_extension": ".py",
   "mimetype": "text/x-python",
   "name": "python",
   "nbconvert_exporter": "python",
   "pygments_lexer": "ipython3",
   "version": "3.11.5"
  }
 },
 "nbformat": 4,
 "nbformat_minor": 5
}
